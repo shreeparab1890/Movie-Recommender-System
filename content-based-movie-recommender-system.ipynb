{
 "cells": [
  {
   "cell_type": "code",
   "execution_count": 1,
   "id": "01623ffa",
   "metadata": {
    "_cell_guid": "b1076dfc-b9ad-4769-8c92-a6c4dae69d19",
    "_uuid": "8f2839f25d086af736a60e9eeb907d3b93b6e0e5",
    "execution": {
     "iopub.execute_input": "2023-01-07T08:28:22.935649Z",
     "iopub.status.busy": "2023-01-07T08:28:22.934645Z",
     "iopub.status.idle": "2023-01-07T08:28:22.944837Z",
     "shell.execute_reply": "2023-01-07T08:28:22.943774Z"
    },
    "papermill": {
     "duration": 0.03219,
     "end_time": "2023-01-07T08:28:22.947606",
     "exception": false,
     "start_time": "2023-01-07T08:28:22.915416",
     "status": "completed"
    },
    "tags": []
   },
   "outputs": [],
   "source": [
    "import numpy as np # linear algebra\n",
    "import pandas as pd # data processing, CSV file I/O (e.g. pd.read_csv)\n",
    "import ast\n"
   ]
  },
  {
   "cell_type": "code",
   "execution_count": 2,
   "id": "6a744ef2",
   "metadata": {
    "execution": {
     "iopub.execute_input": "2023-01-07T08:28:22.976256Z",
     "iopub.status.busy": "2023-01-07T08:28:22.975533Z",
     "iopub.status.idle": "2023-01-07T08:28:22.987563Z",
     "shell.execute_reply": "2023-01-07T08:28:22.986285Z"
    },
    "papermill": {
     "duration": 0.030802,
     "end_time": "2023-01-07T08:28:22.990634",
     "exception": false,
     "start_time": "2023-01-07T08:28:22.959832",
     "status": "completed"
    },
    "tags": []
   },
   "outputs": [
    {
     "name": "stdout",
     "output_type": "stream",
     "text": [
      "/kaggle/input/tmdb-movie-metadata/tmdb_5000_movies.csv\n",
      "/kaggle/input/tmdb-movie-metadata/tmdb_5000_credits.csv\n"
     ]
    }
   ],
   "source": [
    "import os\n",
    "for dirname, _, filenames in os.walk('/kaggle/input'):\n",
    "    for filename in filenames:\n",
    "        print(os.path.join(dirname, filename))\n"
   ]
  },
  {
   "cell_type": "markdown",
   "id": "372cac80",
   "metadata": {
    "papermill": {
     "duration": 0.016083,
     "end_time": "2023-01-07T08:28:23.023458",
     "exception": false,
     "start_time": "2023-01-07T08:28:23.007375",
     "status": "completed"
    },
    "tags": []
   },
   "source": [
    "**Read the CSV Files**"
   ]
  },
  {
   "cell_type": "code",
   "execution_count": 3,
   "id": "d03045bf",
   "metadata": {
    "execution": {
     "iopub.execute_input": "2023-01-07T08:28:23.055487Z",
     "iopub.status.busy": "2023-01-07T08:28:23.054580Z",
     "iopub.status.idle": "2023-01-07T08:28:24.064024Z",
     "shell.execute_reply": "2023-01-07T08:28:24.062787Z"
    },
    "papermill": {
     "duration": 1.027556,
     "end_time": "2023-01-07T08:28:24.066739",
     "exception": false,
     "start_time": "2023-01-07T08:28:23.039183",
     "status": "completed"
    },
    "tags": []
   },
   "outputs": [],
   "source": [
    "movies_df = pd.read_csv(\"/kaggle/input/tmdb-movie-metadata/tmdb_5000_movies.csv\")\n",
    "credits_df = pd.read_csv(\"/kaggle/input/tmdb-movie-metadata/tmdb_5000_credits.csv\")"
   ]
  },
  {
   "cell_type": "markdown",
   "id": "1740454a",
   "metadata": {
    "papermill": {
     "duration": 0.010231,
     "end_time": "2023-01-07T08:28:24.088937",
     "exception": false,
     "start_time": "2023-01-07T08:28:24.078706",
     "status": "completed"
    },
    "tags": []
   },
   "source": [
    "**Merge the credits_df in movies_df on title**"
   ]
  },
  {
   "cell_type": "code",
   "execution_count": 4,
   "id": "ce7fe56b",
   "metadata": {
    "execution": {
     "iopub.execute_input": "2023-01-07T08:28:24.111345Z",
     "iopub.status.busy": "2023-01-07T08:28:24.110923Z",
     "iopub.status.idle": "2023-01-07T08:28:24.146833Z",
     "shell.execute_reply": "2023-01-07T08:28:24.145714Z"
    },
    "papermill": {
     "duration": 0.050156,
     "end_time": "2023-01-07T08:28:24.149410",
     "exception": false,
     "start_time": "2023-01-07T08:28:24.099254",
     "status": "completed"
    },
    "tags": []
   },
   "outputs": [],
   "source": [
    "movies_df = movies_df.merge(credits_df,on='title')"
   ]
  },
  {
   "cell_type": "markdown",
   "id": "45c15489",
   "metadata": {
    "papermill": {
     "duration": 0.011916,
     "end_time": "2023-01-07T08:28:24.176272",
     "exception": false,
     "start_time": "2023-01-07T08:28:24.164356",
     "status": "completed"
    },
    "tags": []
   },
   "source": [
    "**Select the features that are needed and helpfull**"
   ]
  },
  {
   "cell_type": "code",
   "execution_count": 5,
   "id": "f2b433fb",
   "metadata": {
    "execution": {
     "iopub.execute_input": "2023-01-07T08:28:24.204184Z",
     "iopub.status.busy": "2023-01-07T08:28:24.203262Z",
     "iopub.status.idle": "2023-01-07T08:28:24.216531Z",
     "shell.execute_reply": "2023-01-07T08:28:24.215385Z"
    },
    "papermill": {
     "duration": 0.030008,
     "end_time": "2023-01-07T08:28:24.219207",
     "exception": false,
     "start_time": "2023-01-07T08:28:24.189199",
     "status": "completed"
    },
    "tags": []
   },
   "outputs": [],
   "source": [
    "movies_df = movies_df[['movie_id','title','overview','genres','keywords','cast','crew']]"
   ]
  },
  {
   "cell_type": "markdown",
   "id": "a4131ea5",
   "metadata": {
    "papermill": {
     "duration": 0.011946,
     "end_time": "2023-01-07T08:28:24.242850",
     "exception": false,
     "start_time": "2023-01-07T08:28:24.230904",
     "status": "completed"
    },
    "tags": []
   },
   "source": [
    "**Check for null values in each col**"
   ]
  },
  {
   "cell_type": "code",
   "execution_count": 6,
   "id": "1371d715",
   "metadata": {
    "execution": {
     "iopub.execute_input": "2023-01-07T08:28:24.267363Z",
     "iopub.status.busy": "2023-01-07T08:28:24.266867Z",
     "iopub.status.idle": "2023-01-07T08:28:24.281042Z",
     "shell.execute_reply": "2023-01-07T08:28:24.280234Z"
    },
    "papermill": {
     "duration": 0.028737,
     "end_time": "2023-01-07T08:28:24.283100",
     "exception": false,
     "start_time": "2023-01-07T08:28:24.254363",
     "status": "completed"
    },
    "tags": []
   },
   "outputs": [
    {
     "data": {
      "text/plain": [
       "movie_id    0\n",
       "title       0\n",
       "overview    3\n",
       "genres      0\n",
       "keywords    0\n",
       "cast        0\n",
       "crew        0\n",
       "dtype: int64"
      ]
     },
     "execution_count": 6,
     "metadata": {},
     "output_type": "execute_result"
    }
   ],
   "source": [
    "movies_df.isnull().sum()"
   ]
  },
  {
   "cell_type": "markdown",
   "id": "d76c2da3",
   "metadata": {
    "papermill": {
     "duration": 0.010562,
     "end_time": "2023-01-07T08:28:24.305108",
     "exception": false,
     "start_time": "2023-01-07T08:28:24.294546",
     "status": "completed"
    },
    "tags": []
   },
   "source": [
    "**Since the null values are only in 3 rows of overview col, that is very less so we can remove that row**"
   ]
  },
  {
   "cell_type": "code",
   "execution_count": 7,
   "id": "4e7bbd83",
   "metadata": {
    "execution": {
     "iopub.execute_input": "2023-01-07T08:28:24.328059Z",
     "iopub.status.busy": "2023-01-07T08:28:24.327100Z",
     "iopub.status.idle": "2023-01-07T08:28:24.338077Z",
     "shell.execute_reply": "2023-01-07T08:28:24.337304Z"
    },
    "papermill": {
     "duration": 0.024653,
     "end_time": "2023-01-07T08:28:24.340231",
     "exception": false,
     "start_time": "2023-01-07T08:28:24.315578",
     "status": "completed"
    },
    "tags": []
   },
   "outputs": [],
   "source": [
    "movies_df.dropna(inplace=True)"
   ]
  },
  {
   "cell_type": "markdown",
   "id": "82ff63db",
   "metadata": {
    "papermill": {
     "duration": 0.010278,
     "end_time": "2023-01-07T08:28:24.361441",
     "exception": false,
     "start_time": "2023-01-07T08:28:24.351163",
     "status": "completed"
    },
    "tags": []
   },
   "source": [
    "**Check for duplicates**"
   ]
  },
  {
   "cell_type": "code",
   "execution_count": 8,
   "id": "25afe2df",
   "metadata": {
    "execution": {
     "iopub.execute_input": "2023-01-07T08:28:24.384418Z",
     "iopub.status.busy": "2023-01-07T08:28:24.383477Z",
     "iopub.status.idle": "2023-01-07T08:28:24.488541Z",
     "shell.execute_reply": "2023-01-07T08:28:24.487572Z"
    },
    "papermill": {
     "duration": 0.118907,
     "end_time": "2023-01-07T08:28:24.490849",
     "exception": false,
     "start_time": "2023-01-07T08:28:24.371942",
     "status": "completed"
    },
    "tags": []
   },
   "outputs": [
    {
     "data": {
      "text/plain": [
       "0"
      ]
     },
     "execution_count": 8,
     "metadata": {},
     "output_type": "execute_result"
    }
   ],
   "source": [
    "movies_df.duplicated().sum()"
   ]
  },
  {
   "cell_type": "code",
   "execution_count": 9,
   "id": "f950180f",
   "metadata": {
    "execution": {
     "iopub.execute_input": "2023-01-07T08:28:24.514220Z",
     "iopub.status.busy": "2023-01-07T08:28:24.513858Z",
     "iopub.status.idle": "2023-01-07T08:28:24.519235Z",
     "shell.execute_reply": "2023-01-07T08:28:24.518255Z"
    },
    "papermill": {
     "duration": 0.019958,
     "end_time": "2023-01-07T08:28:24.521512",
     "exception": false,
     "start_time": "2023-01-07T08:28:24.501554",
     "status": "completed"
    },
    "tags": []
   },
   "outputs": [],
   "source": [
    "def convert(text):\n",
    "    L = []\n",
    "    for i in ast.literal_eval(text):\n",
    "        L.append(i['name']) \n",
    "    return L "
   ]
  },
  {
   "cell_type": "code",
   "execution_count": 10,
   "id": "72e35a3d",
   "metadata": {
    "execution": {
     "iopub.execute_input": "2023-01-07T08:28:24.545377Z",
     "iopub.status.busy": "2023-01-07T08:28:24.543961Z",
     "iopub.status.idle": "2023-01-07T08:28:24.718697Z",
     "shell.execute_reply": "2023-01-07T08:28:24.717503Z"
    },
    "papermill": {
     "duration": 0.189033,
     "end_time": "2023-01-07T08:28:24.721096",
     "exception": false,
     "start_time": "2023-01-07T08:28:24.532063",
     "status": "completed"
    },
    "tags": []
   },
   "outputs": [
    {
     "data": {
      "text/html": [
       "<div>\n",
       "<style scoped>\n",
       "    .dataframe tbody tr th:only-of-type {\n",
       "        vertical-align: middle;\n",
       "    }\n",
       "\n",
       "    .dataframe tbody tr th {\n",
       "        vertical-align: top;\n",
       "    }\n",
       "\n",
       "    .dataframe thead th {\n",
       "        text-align: right;\n",
       "    }\n",
       "</style>\n",
       "<table border=\"1\" class=\"dataframe\">\n",
       "  <thead>\n",
       "    <tr style=\"text-align: right;\">\n",
       "      <th></th>\n",
       "      <th>movie_id</th>\n",
       "      <th>title</th>\n",
       "      <th>overview</th>\n",
       "      <th>genres</th>\n",
       "      <th>keywords</th>\n",
       "      <th>cast</th>\n",
       "      <th>crew</th>\n",
       "    </tr>\n",
       "  </thead>\n",
       "  <tbody>\n",
       "    <tr>\n",
       "      <th>0</th>\n",
       "      <td>19995</td>\n",
       "      <td>Avatar</td>\n",
       "      <td>In the 22nd century, a paraplegic Marine is di...</td>\n",
       "      <td>[Action, Adventure, Fantasy, Science Fiction]</td>\n",
       "      <td>[{\"id\": 1463, \"name\": \"culture clash\"}, {\"id\":...</td>\n",
       "      <td>[{\"cast_id\": 242, \"character\": \"Jake Sully\", \"...</td>\n",
       "      <td>[{\"credit_id\": \"52fe48009251416c750aca23\", \"de...</td>\n",
       "    </tr>\n",
       "    <tr>\n",
       "      <th>1</th>\n",
       "      <td>285</td>\n",
       "      <td>Pirates of the Caribbean: At World's End</td>\n",
       "      <td>Captain Barbossa, long believed to be dead, ha...</td>\n",
       "      <td>[Adventure, Fantasy, Action]</td>\n",
       "      <td>[{\"id\": 270, \"name\": \"ocean\"}, {\"id\": 726, \"na...</td>\n",
       "      <td>[{\"cast_id\": 4, \"character\": \"Captain Jack Spa...</td>\n",
       "      <td>[{\"credit_id\": \"52fe4232c3a36847f800b579\", \"de...</td>\n",
       "    </tr>\n",
       "    <tr>\n",
       "      <th>2</th>\n",
       "      <td>206647</td>\n",
       "      <td>Spectre</td>\n",
       "      <td>A cryptic message from Bond’s past sends him o...</td>\n",
       "      <td>[Action, Adventure, Crime]</td>\n",
       "      <td>[{\"id\": 470, \"name\": \"spy\"}, {\"id\": 818, \"name...</td>\n",
       "      <td>[{\"cast_id\": 1, \"character\": \"James Bond\", \"cr...</td>\n",
       "      <td>[{\"credit_id\": \"54805967c3a36829b5002c41\", \"de...</td>\n",
       "    </tr>\n",
       "    <tr>\n",
       "      <th>3</th>\n",
       "      <td>49026</td>\n",
       "      <td>The Dark Knight Rises</td>\n",
       "      <td>Following the death of District Attorney Harve...</td>\n",
       "      <td>[Action, Crime, Drama, Thriller]</td>\n",
       "      <td>[{\"id\": 849, \"name\": \"dc comics\"}, {\"id\": 853,...</td>\n",
       "      <td>[{\"cast_id\": 2, \"character\": \"Bruce Wayne / Ba...</td>\n",
       "      <td>[{\"credit_id\": \"52fe4781c3a36847f81398c3\", \"de...</td>\n",
       "    </tr>\n",
       "    <tr>\n",
       "      <th>4</th>\n",
       "      <td>49529</td>\n",
       "      <td>John Carter</td>\n",
       "      <td>John Carter is a war-weary, former military ca...</td>\n",
       "      <td>[Action, Adventure, Science Fiction]</td>\n",
       "      <td>[{\"id\": 818, \"name\": \"based on novel\"}, {\"id\":...</td>\n",
       "      <td>[{\"cast_id\": 5, \"character\": \"John Carter\", \"c...</td>\n",
       "      <td>[{\"credit_id\": \"52fe479ac3a36847f813eaa3\", \"de...</td>\n",
       "    </tr>\n",
       "  </tbody>\n",
       "</table>\n",
       "</div>"
      ],
      "text/plain": [
       "   movie_id                                     title  \\\n",
       "0     19995                                    Avatar   \n",
       "1       285  Pirates of the Caribbean: At World's End   \n",
       "2    206647                                   Spectre   \n",
       "3     49026                     The Dark Knight Rises   \n",
       "4     49529                               John Carter   \n",
       "\n",
       "                                            overview  \\\n",
       "0  In the 22nd century, a paraplegic Marine is di...   \n",
       "1  Captain Barbossa, long believed to be dead, ha...   \n",
       "2  A cryptic message from Bond’s past sends him o...   \n",
       "3  Following the death of District Attorney Harve...   \n",
       "4  John Carter is a war-weary, former military ca...   \n",
       "\n",
       "                                          genres  \\\n",
       "0  [Action, Adventure, Fantasy, Science Fiction]   \n",
       "1                   [Adventure, Fantasy, Action]   \n",
       "2                     [Action, Adventure, Crime]   \n",
       "3               [Action, Crime, Drama, Thriller]   \n",
       "4           [Action, Adventure, Science Fiction]   \n",
       "\n",
       "                                            keywords  \\\n",
       "0  [{\"id\": 1463, \"name\": \"culture clash\"}, {\"id\":...   \n",
       "1  [{\"id\": 270, \"name\": \"ocean\"}, {\"id\": 726, \"na...   \n",
       "2  [{\"id\": 470, \"name\": \"spy\"}, {\"id\": 818, \"name...   \n",
       "3  [{\"id\": 849, \"name\": \"dc comics\"}, {\"id\": 853,...   \n",
       "4  [{\"id\": 818, \"name\": \"based on novel\"}, {\"id\":...   \n",
       "\n",
       "                                                cast  \\\n",
       "0  [{\"cast_id\": 242, \"character\": \"Jake Sully\", \"...   \n",
       "1  [{\"cast_id\": 4, \"character\": \"Captain Jack Spa...   \n",
       "2  [{\"cast_id\": 1, \"character\": \"James Bond\", \"cr...   \n",
       "3  [{\"cast_id\": 2, \"character\": \"Bruce Wayne / Ba...   \n",
       "4  [{\"cast_id\": 5, \"character\": \"John Carter\", \"c...   \n",
       "\n",
       "                                                crew  \n",
       "0  [{\"credit_id\": \"52fe48009251416c750aca23\", \"de...  \n",
       "1  [{\"credit_id\": \"52fe4232c3a36847f800b579\", \"de...  \n",
       "2  [{\"credit_id\": \"54805967c3a36829b5002c41\", \"de...  \n",
       "3  [{\"credit_id\": \"52fe4781c3a36847f81398c3\", \"de...  \n",
       "4  [{\"credit_id\": \"52fe479ac3a36847f813eaa3\", \"de...  "
      ]
     },
     "execution_count": 10,
     "metadata": {},
     "output_type": "execute_result"
    }
   ],
   "source": [
    "movies_df['genres'] = movies_df['genres'].apply(convert)\n",
    "movies_df.head()"
   ]
  },
  {
   "cell_type": "code",
   "execution_count": 11,
   "id": "055e0d0d",
   "metadata": {
    "execution": {
     "iopub.execute_input": "2023-01-07T08:28:24.746663Z",
     "iopub.status.busy": "2023-01-07T08:28:24.744828Z",
     "iopub.status.idle": "2023-01-07T08:28:25.170053Z",
     "shell.execute_reply": "2023-01-07T08:28:25.169265Z"
    },
    "papermill": {
     "duration": 0.43987,
     "end_time": "2023-01-07T08:28:25.172394",
     "exception": false,
     "start_time": "2023-01-07T08:28:24.732524",
     "status": "completed"
    },
    "tags": []
   },
   "outputs": [
    {
     "data": {
      "text/html": [
       "<div>\n",
       "<style scoped>\n",
       "    .dataframe tbody tr th:only-of-type {\n",
       "        vertical-align: middle;\n",
       "    }\n",
       "\n",
       "    .dataframe tbody tr th {\n",
       "        vertical-align: top;\n",
       "    }\n",
       "\n",
       "    .dataframe thead th {\n",
       "        text-align: right;\n",
       "    }\n",
       "</style>\n",
       "<table border=\"1\" class=\"dataframe\">\n",
       "  <thead>\n",
       "    <tr style=\"text-align: right;\">\n",
       "      <th></th>\n",
       "      <th>movie_id</th>\n",
       "      <th>title</th>\n",
       "      <th>overview</th>\n",
       "      <th>genres</th>\n",
       "      <th>keywords</th>\n",
       "      <th>cast</th>\n",
       "      <th>crew</th>\n",
       "    </tr>\n",
       "  </thead>\n",
       "  <tbody>\n",
       "    <tr>\n",
       "      <th>0</th>\n",
       "      <td>19995</td>\n",
       "      <td>Avatar</td>\n",
       "      <td>In the 22nd century, a paraplegic Marine is di...</td>\n",
       "      <td>[Action, Adventure, Fantasy, Science Fiction]</td>\n",
       "      <td>[culture clash, future, space war, space colon...</td>\n",
       "      <td>[{\"cast_id\": 242, \"character\": \"Jake Sully\", \"...</td>\n",
       "      <td>[{\"credit_id\": \"52fe48009251416c750aca23\", \"de...</td>\n",
       "    </tr>\n",
       "    <tr>\n",
       "      <th>1</th>\n",
       "      <td>285</td>\n",
       "      <td>Pirates of the Caribbean: At World's End</td>\n",
       "      <td>Captain Barbossa, long believed to be dead, ha...</td>\n",
       "      <td>[Adventure, Fantasy, Action]</td>\n",
       "      <td>[ocean, drug abuse, exotic island, east india ...</td>\n",
       "      <td>[{\"cast_id\": 4, \"character\": \"Captain Jack Spa...</td>\n",
       "      <td>[{\"credit_id\": \"52fe4232c3a36847f800b579\", \"de...</td>\n",
       "    </tr>\n",
       "    <tr>\n",
       "      <th>2</th>\n",
       "      <td>206647</td>\n",
       "      <td>Spectre</td>\n",
       "      <td>A cryptic message from Bond’s past sends him o...</td>\n",
       "      <td>[Action, Adventure, Crime]</td>\n",
       "      <td>[spy, based on novel, secret agent, sequel, mi...</td>\n",
       "      <td>[{\"cast_id\": 1, \"character\": \"James Bond\", \"cr...</td>\n",
       "      <td>[{\"credit_id\": \"54805967c3a36829b5002c41\", \"de...</td>\n",
       "    </tr>\n",
       "    <tr>\n",
       "      <th>3</th>\n",
       "      <td>49026</td>\n",
       "      <td>The Dark Knight Rises</td>\n",
       "      <td>Following the death of District Attorney Harve...</td>\n",
       "      <td>[Action, Crime, Drama, Thriller]</td>\n",
       "      <td>[dc comics, crime fighter, terrorist, secret i...</td>\n",
       "      <td>[{\"cast_id\": 2, \"character\": \"Bruce Wayne / Ba...</td>\n",
       "      <td>[{\"credit_id\": \"52fe4781c3a36847f81398c3\", \"de...</td>\n",
       "    </tr>\n",
       "    <tr>\n",
       "      <th>4</th>\n",
       "      <td>49529</td>\n",
       "      <td>John Carter</td>\n",
       "      <td>John Carter is a war-weary, former military ca...</td>\n",
       "      <td>[Action, Adventure, Science Fiction]</td>\n",
       "      <td>[based on novel, mars, medallion, space travel...</td>\n",
       "      <td>[{\"cast_id\": 5, \"character\": \"John Carter\", \"c...</td>\n",
       "      <td>[{\"credit_id\": \"52fe479ac3a36847f813eaa3\", \"de...</td>\n",
       "    </tr>\n",
       "  </tbody>\n",
       "</table>\n",
       "</div>"
      ],
      "text/plain": [
       "   movie_id                                     title  \\\n",
       "0     19995                                    Avatar   \n",
       "1       285  Pirates of the Caribbean: At World's End   \n",
       "2    206647                                   Spectre   \n",
       "3     49026                     The Dark Knight Rises   \n",
       "4     49529                               John Carter   \n",
       "\n",
       "                                            overview  \\\n",
       "0  In the 22nd century, a paraplegic Marine is di...   \n",
       "1  Captain Barbossa, long believed to be dead, ha...   \n",
       "2  A cryptic message from Bond’s past sends him o...   \n",
       "3  Following the death of District Attorney Harve...   \n",
       "4  John Carter is a war-weary, former military ca...   \n",
       "\n",
       "                                          genres  \\\n",
       "0  [Action, Adventure, Fantasy, Science Fiction]   \n",
       "1                   [Adventure, Fantasy, Action]   \n",
       "2                     [Action, Adventure, Crime]   \n",
       "3               [Action, Crime, Drama, Thriller]   \n",
       "4           [Action, Adventure, Science Fiction]   \n",
       "\n",
       "                                            keywords  \\\n",
       "0  [culture clash, future, space war, space colon...   \n",
       "1  [ocean, drug abuse, exotic island, east india ...   \n",
       "2  [spy, based on novel, secret agent, sequel, mi...   \n",
       "3  [dc comics, crime fighter, terrorist, secret i...   \n",
       "4  [based on novel, mars, medallion, space travel...   \n",
       "\n",
       "                                                cast  \\\n",
       "0  [{\"cast_id\": 242, \"character\": \"Jake Sully\", \"...   \n",
       "1  [{\"cast_id\": 4, \"character\": \"Captain Jack Spa...   \n",
       "2  [{\"cast_id\": 1, \"character\": \"James Bond\", \"cr...   \n",
       "3  [{\"cast_id\": 2, \"character\": \"Bruce Wayne / Ba...   \n",
       "4  [{\"cast_id\": 5, \"character\": \"John Carter\", \"c...   \n",
       "\n",
       "                                                crew  \n",
       "0  [{\"credit_id\": \"52fe48009251416c750aca23\", \"de...  \n",
       "1  [{\"credit_id\": \"52fe4232c3a36847f800b579\", \"de...  \n",
       "2  [{\"credit_id\": \"54805967c3a36829b5002c41\", \"de...  \n",
       "3  [{\"credit_id\": \"52fe4781c3a36847f81398c3\", \"de...  \n",
       "4  [{\"credit_id\": \"52fe479ac3a36847f813eaa3\", \"de...  "
      ]
     },
     "execution_count": 11,
     "metadata": {},
     "output_type": "execute_result"
    }
   ],
   "source": [
    "movies_df['keywords'] = movies_df['keywords'].apply(convert)\n",
    "movies_df.head()"
   ]
  },
  {
   "cell_type": "code",
   "execution_count": 12,
   "id": "29960fe6",
   "metadata": {
    "execution": {
     "iopub.execute_input": "2023-01-07T08:28:25.196455Z",
     "iopub.status.busy": "2023-01-07T08:28:25.196040Z",
     "iopub.status.idle": "2023-01-07T08:28:25.211935Z",
     "shell.execute_reply": "2023-01-07T08:28:25.210779Z"
    },
    "papermill": {
     "duration": 0.030694,
     "end_time": "2023-01-07T08:28:25.214360",
     "exception": false,
     "start_time": "2023-01-07T08:28:25.183666",
     "status": "completed"
    },
    "tags": []
   },
   "outputs": [
    {
     "data": {
      "text/html": [
       "<div>\n",
       "<style scoped>\n",
       "    .dataframe tbody tr th:only-of-type {\n",
       "        vertical-align: middle;\n",
       "    }\n",
       "\n",
       "    .dataframe tbody tr th {\n",
       "        vertical-align: top;\n",
       "    }\n",
       "\n",
       "    .dataframe thead th {\n",
       "        text-align: right;\n",
       "    }\n",
       "</style>\n",
       "<table border=\"1\" class=\"dataframe\">\n",
       "  <thead>\n",
       "    <tr style=\"text-align: right;\">\n",
       "      <th></th>\n",
       "      <th>movie_id</th>\n",
       "      <th>title</th>\n",
       "      <th>overview</th>\n",
       "      <th>genres</th>\n",
       "      <th>keywords</th>\n",
       "      <th>cast</th>\n",
       "      <th>crew</th>\n",
       "    </tr>\n",
       "  </thead>\n",
       "  <tbody>\n",
       "    <tr>\n",
       "      <th>0</th>\n",
       "      <td>19995</td>\n",
       "      <td>Avatar</td>\n",
       "      <td>In the 22nd century, a paraplegic Marine is di...</td>\n",
       "      <td>[Action, Adventure, Fantasy, Science Fiction]</td>\n",
       "      <td>[culture clash, future, space war, space colon...</td>\n",
       "      <td>[{\"cast_id\": 242, \"character\": \"Jake Sully\", \"...</td>\n",
       "      <td>[{\"credit_id\": \"52fe48009251416c750aca23\", \"de...</td>\n",
       "    </tr>\n",
       "    <tr>\n",
       "      <th>1</th>\n",
       "      <td>285</td>\n",
       "      <td>Pirates of the Caribbean: At World's End</td>\n",
       "      <td>Captain Barbossa, long believed to be dead, ha...</td>\n",
       "      <td>[Adventure, Fantasy, Action]</td>\n",
       "      <td>[ocean, drug abuse, exotic island, east india ...</td>\n",
       "      <td>[{\"cast_id\": 4, \"character\": \"Captain Jack Spa...</td>\n",
       "      <td>[{\"credit_id\": \"52fe4232c3a36847f800b579\", \"de...</td>\n",
       "    </tr>\n",
       "  </tbody>\n",
       "</table>\n",
       "</div>"
      ],
      "text/plain": [
       "   movie_id                                     title  \\\n",
       "0     19995                                    Avatar   \n",
       "1       285  Pirates of the Caribbean: At World's End   \n",
       "\n",
       "                                            overview  \\\n",
       "0  In the 22nd century, a paraplegic Marine is di...   \n",
       "1  Captain Barbossa, long believed to be dead, ha...   \n",
       "\n",
       "                                          genres  \\\n",
       "0  [Action, Adventure, Fantasy, Science Fiction]   \n",
       "1                   [Adventure, Fantasy, Action]   \n",
       "\n",
       "                                            keywords  \\\n",
       "0  [culture clash, future, space war, space colon...   \n",
       "1  [ocean, drug abuse, exotic island, east india ...   \n",
       "\n",
       "                                                cast  \\\n",
       "0  [{\"cast_id\": 242, \"character\": \"Jake Sully\", \"...   \n",
       "1  [{\"cast_id\": 4, \"character\": \"Captain Jack Spa...   \n",
       "\n",
       "                                                crew  \n",
       "0  [{\"credit_id\": \"52fe48009251416c750aca23\", \"de...  \n",
       "1  [{\"credit_id\": \"52fe4232c3a36847f800b579\", \"de...  "
      ]
     },
     "execution_count": 12,
     "metadata": {},
     "output_type": "execute_result"
    }
   ],
   "source": [
    "movies_df.head(2)"
   ]
  },
  {
   "cell_type": "code",
   "execution_count": 13,
   "id": "512ebd26",
   "metadata": {
    "execution": {
     "iopub.execute_input": "2023-01-07T08:28:25.239983Z",
     "iopub.status.busy": "2023-01-07T08:28:25.239613Z",
     "iopub.status.idle": "2023-01-07T08:28:25.244899Z",
     "shell.execute_reply": "2023-01-07T08:28:25.244125Z"
    },
    "papermill": {
     "duration": 0.020746,
     "end_time": "2023-01-07T08:28:25.246800",
     "exception": false,
     "start_time": "2023-01-07T08:28:25.226054",
     "status": "completed"
    },
    "tags": []
   },
   "outputs": [],
   "source": [
    "def convert_cast(text):\n",
    "    L = []\n",
    "    counter = 0\n",
    "    for i in ast.literal_eval(text):\n",
    "        if counter < 3:\n",
    "            L.append(i['name'])\n",
    "        counter+=1\n",
    "    return L "
   ]
  },
  {
   "cell_type": "code",
   "execution_count": 14,
   "id": "db7e5e6c",
   "metadata": {
    "execution": {
     "iopub.execute_input": "2023-01-07T08:28:25.272257Z",
     "iopub.status.busy": "2023-01-07T08:28:25.271268Z",
     "iopub.status.idle": "2023-01-07T08:28:28.559544Z",
     "shell.execute_reply": "2023-01-07T08:28:28.558398Z"
    },
    "papermill": {
     "duration": 3.303487,
     "end_time": "2023-01-07T08:28:28.562176",
     "exception": false,
     "start_time": "2023-01-07T08:28:25.258689",
     "status": "completed"
    },
    "tags": []
   },
   "outputs": [
    {
     "data": {
      "text/html": [
       "<div>\n",
       "<style scoped>\n",
       "    .dataframe tbody tr th:only-of-type {\n",
       "        vertical-align: middle;\n",
       "    }\n",
       "\n",
       "    .dataframe tbody tr th {\n",
       "        vertical-align: top;\n",
       "    }\n",
       "\n",
       "    .dataframe thead th {\n",
       "        text-align: right;\n",
       "    }\n",
       "</style>\n",
       "<table border=\"1\" class=\"dataframe\">\n",
       "  <thead>\n",
       "    <tr style=\"text-align: right;\">\n",
       "      <th></th>\n",
       "      <th>movie_id</th>\n",
       "      <th>title</th>\n",
       "      <th>overview</th>\n",
       "      <th>genres</th>\n",
       "      <th>keywords</th>\n",
       "      <th>cast</th>\n",
       "      <th>crew</th>\n",
       "    </tr>\n",
       "  </thead>\n",
       "  <tbody>\n",
       "    <tr>\n",
       "      <th>0</th>\n",
       "      <td>19995</td>\n",
       "      <td>Avatar</td>\n",
       "      <td>In the 22nd century, a paraplegic Marine is di...</td>\n",
       "      <td>[Action, Adventure, Fantasy, Science Fiction]</td>\n",
       "      <td>[culture clash, future, space war, space colon...</td>\n",
       "      <td>[Sam Worthington, Zoe Saldana, Sigourney Weaver]</td>\n",
       "      <td>[{\"credit_id\": \"52fe48009251416c750aca23\", \"de...</td>\n",
       "    </tr>\n",
       "    <tr>\n",
       "      <th>1</th>\n",
       "      <td>285</td>\n",
       "      <td>Pirates of the Caribbean: At World's End</td>\n",
       "      <td>Captain Barbossa, long believed to be dead, ha...</td>\n",
       "      <td>[Adventure, Fantasy, Action]</td>\n",
       "      <td>[ocean, drug abuse, exotic island, east india ...</td>\n",
       "      <td>[Johnny Depp, Orlando Bloom, Keira Knightley]</td>\n",
       "      <td>[{\"credit_id\": \"52fe4232c3a36847f800b579\", \"de...</td>\n",
       "    </tr>\n",
       "    <tr>\n",
       "      <th>2</th>\n",
       "      <td>206647</td>\n",
       "      <td>Spectre</td>\n",
       "      <td>A cryptic message from Bond’s past sends him o...</td>\n",
       "      <td>[Action, Adventure, Crime]</td>\n",
       "      <td>[spy, based on novel, secret agent, sequel, mi...</td>\n",
       "      <td>[Daniel Craig, Christoph Waltz, Léa Seydoux]</td>\n",
       "      <td>[{\"credit_id\": \"54805967c3a36829b5002c41\", \"de...</td>\n",
       "    </tr>\n",
       "    <tr>\n",
       "      <th>3</th>\n",
       "      <td>49026</td>\n",
       "      <td>The Dark Knight Rises</td>\n",
       "      <td>Following the death of District Attorney Harve...</td>\n",
       "      <td>[Action, Crime, Drama, Thriller]</td>\n",
       "      <td>[dc comics, crime fighter, terrorist, secret i...</td>\n",
       "      <td>[Christian Bale, Michael Caine, Gary Oldman]</td>\n",
       "      <td>[{\"credit_id\": \"52fe4781c3a36847f81398c3\", \"de...</td>\n",
       "    </tr>\n",
       "    <tr>\n",
       "      <th>4</th>\n",
       "      <td>49529</td>\n",
       "      <td>John Carter</td>\n",
       "      <td>John Carter is a war-weary, former military ca...</td>\n",
       "      <td>[Action, Adventure, Science Fiction]</td>\n",
       "      <td>[based on novel, mars, medallion, space travel...</td>\n",
       "      <td>[Taylor Kitsch, Lynn Collins, Samantha Morton]</td>\n",
       "      <td>[{\"credit_id\": \"52fe479ac3a36847f813eaa3\", \"de...</td>\n",
       "    </tr>\n",
       "  </tbody>\n",
       "</table>\n",
       "</div>"
      ],
      "text/plain": [
       "   movie_id                                     title  \\\n",
       "0     19995                                    Avatar   \n",
       "1       285  Pirates of the Caribbean: At World's End   \n",
       "2    206647                                   Spectre   \n",
       "3     49026                     The Dark Knight Rises   \n",
       "4     49529                               John Carter   \n",
       "\n",
       "                                            overview  \\\n",
       "0  In the 22nd century, a paraplegic Marine is di...   \n",
       "1  Captain Barbossa, long believed to be dead, ha...   \n",
       "2  A cryptic message from Bond’s past sends him o...   \n",
       "3  Following the death of District Attorney Harve...   \n",
       "4  John Carter is a war-weary, former military ca...   \n",
       "\n",
       "                                          genres  \\\n",
       "0  [Action, Adventure, Fantasy, Science Fiction]   \n",
       "1                   [Adventure, Fantasy, Action]   \n",
       "2                     [Action, Adventure, Crime]   \n",
       "3               [Action, Crime, Drama, Thriller]   \n",
       "4           [Action, Adventure, Science Fiction]   \n",
       "\n",
       "                                            keywords  \\\n",
       "0  [culture clash, future, space war, space colon...   \n",
       "1  [ocean, drug abuse, exotic island, east india ...   \n",
       "2  [spy, based on novel, secret agent, sequel, mi...   \n",
       "3  [dc comics, crime fighter, terrorist, secret i...   \n",
       "4  [based on novel, mars, medallion, space travel...   \n",
       "\n",
       "                                               cast  \\\n",
       "0  [Sam Worthington, Zoe Saldana, Sigourney Weaver]   \n",
       "1     [Johnny Depp, Orlando Bloom, Keira Knightley]   \n",
       "2      [Daniel Craig, Christoph Waltz, Léa Seydoux]   \n",
       "3      [Christian Bale, Michael Caine, Gary Oldman]   \n",
       "4    [Taylor Kitsch, Lynn Collins, Samantha Morton]   \n",
       "\n",
       "                                                crew  \n",
       "0  [{\"credit_id\": \"52fe48009251416c750aca23\", \"de...  \n",
       "1  [{\"credit_id\": \"52fe4232c3a36847f800b579\", \"de...  \n",
       "2  [{\"credit_id\": \"54805967c3a36829b5002c41\", \"de...  \n",
       "3  [{\"credit_id\": \"52fe4781c3a36847f81398c3\", \"de...  \n",
       "4  [{\"credit_id\": \"52fe479ac3a36847f813eaa3\", \"de...  "
      ]
     },
     "execution_count": 14,
     "metadata": {},
     "output_type": "execute_result"
    }
   ],
   "source": [
    "movies_df['cast'] = movies_df['cast'].apply(convert_cast)\n",
    "movies_df.head()"
   ]
  },
  {
   "cell_type": "code",
   "execution_count": 15,
   "id": "5f491c3f",
   "metadata": {
    "execution": {
     "iopub.execute_input": "2023-01-07T08:28:28.587584Z",
     "iopub.status.busy": "2023-01-07T08:28:28.587170Z",
     "iopub.status.idle": "2023-01-07T08:28:28.592391Z",
     "shell.execute_reply": "2023-01-07T08:28:28.591390Z"
    },
    "papermill": {
     "duration": 0.020543,
     "end_time": "2023-01-07T08:28:28.594628",
     "exception": false,
     "start_time": "2023-01-07T08:28:28.574085",
     "status": "completed"
    },
    "tags": []
   },
   "outputs": [],
   "source": [
    "def fetch_director(text):\n",
    "    L = []\n",
    "    for i in ast.literal_eval(text):\n",
    "        if i['job'] == 'Director':\n",
    "            L.append(i['name'])\n",
    "    return L "
   ]
  },
  {
   "cell_type": "code",
   "execution_count": 16,
   "id": "f09356aa",
   "metadata": {
    "execution": {
     "iopub.execute_input": "2023-01-07T08:28:28.620735Z",
     "iopub.status.busy": "2023-01-07T08:28:28.620350Z",
     "iopub.status.idle": "2023-01-07T08:28:32.311033Z",
     "shell.execute_reply": "2023-01-07T08:28:32.309782Z"
    },
    "papermill": {
     "duration": 3.706988,
     "end_time": "2023-01-07T08:28:32.313725",
     "exception": false,
     "start_time": "2023-01-07T08:28:28.606737",
     "status": "completed"
    },
    "tags": []
   },
   "outputs": [],
   "source": [
    "movies_df['crew'] = movies_df['crew'].apply(fetch_director)"
   ]
  },
  {
   "cell_type": "code",
   "execution_count": 17,
   "id": "9bc23dca",
   "metadata": {
    "execution": {
     "iopub.execute_input": "2023-01-07T08:28:32.339571Z",
     "iopub.status.busy": "2023-01-07T08:28:32.338899Z",
     "iopub.status.idle": "2023-01-07T08:28:32.355370Z",
     "shell.execute_reply": "2023-01-07T08:28:32.354362Z"
    },
    "papermill": {
     "duration": 0.03163,
     "end_time": "2023-01-07T08:28:32.357468",
     "exception": false,
     "start_time": "2023-01-07T08:28:32.325838",
     "status": "completed"
    },
    "tags": []
   },
   "outputs": [
    {
     "data": {
      "text/html": [
       "<div>\n",
       "<style scoped>\n",
       "    .dataframe tbody tr th:only-of-type {\n",
       "        vertical-align: middle;\n",
       "    }\n",
       "\n",
       "    .dataframe tbody tr th {\n",
       "        vertical-align: top;\n",
       "    }\n",
       "\n",
       "    .dataframe thead th {\n",
       "        text-align: right;\n",
       "    }\n",
       "</style>\n",
       "<table border=\"1\" class=\"dataframe\">\n",
       "  <thead>\n",
       "    <tr style=\"text-align: right;\">\n",
       "      <th></th>\n",
       "      <th>movie_id</th>\n",
       "      <th>title</th>\n",
       "      <th>overview</th>\n",
       "      <th>genres</th>\n",
       "      <th>keywords</th>\n",
       "      <th>cast</th>\n",
       "      <th>crew</th>\n",
       "    </tr>\n",
       "  </thead>\n",
       "  <tbody>\n",
       "    <tr>\n",
       "      <th>0</th>\n",
       "      <td>19995</td>\n",
       "      <td>Avatar</td>\n",
       "      <td>In the 22nd century, a paraplegic Marine is di...</td>\n",
       "      <td>[Action, Adventure, Fantasy, Science Fiction]</td>\n",
       "      <td>[culture clash, future, space war, space colon...</td>\n",
       "      <td>[Sam Worthington, Zoe Saldana, Sigourney Weaver]</td>\n",
       "      <td>[James Cameron]</td>\n",
       "    </tr>\n",
       "    <tr>\n",
       "      <th>1</th>\n",
       "      <td>285</td>\n",
       "      <td>Pirates of the Caribbean: At World's End</td>\n",
       "      <td>Captain Barbossa, long believed to be dead, ha...</td>\n",
       "      <td>[Adventure, Fantasy, Action]</td>\n",
       "      <td>[ocean, drug abuse, exotic island, east india ...</td>\n",
       "      <td>[Johnny Depp, Orlando Bloom, Keira Knightley]</td>\n",
       "      <td>[Gore Verbinski]</td>\n",
       "    </tr>\n",
       "  </tbody>\n",
       "</table>\n",
       "</div>"
      ],
      "text/plain": [
       "   movie_id                                     title  \\\n",
       "0     19995                                    Avatar   \n",
       "1       285  Pirates of the Caribbean: At World's End   \n",
       "\n",
       "                                            overview  \\\n",
       "0  In the 22nd century, a paraplegic Marine is di...   \n",
       "1  Captain Barbossa, long believed to be dead, ha...   \n",
       "\n",
       "                                          genres  \\\n",
       "0  [Action, Adventure, Fantasy, Science Fiction]   \n",
       "1                   [Adventure, Fantasy, Action]   \n",
       "\n",
       "                                            keywords  \\\n",
       "0  [culture clash, future, space war, space colon...   \n",
       "1  [ocean, drug abuse, exotic island, east india ...   \n",
       "\n",
       "                                               cast              crew  \n",
       "0  [Sam Worthington, Zoe Saldana, Sigourney Weaver]   [James Cameron]  \n",
       "1     [Johnny Depp, Orlando Bloom, Keira Knightley]  [Gore Verbinski]  "
      ]
     },
     "execution_count": 17,
     "metadata": {},
     "output_type": "execute_result"
    }
   ],
   "source": [
    "movies_df.head(2)"
   ]
  },
  {
   "cell_type": "code",
   "execution_count": 18,
   "id": "b56c7d0b",
   "metadata": {
    "execution": {
     "iopub.execute_input": "2023-01-07T08:28:32.383749Z",
     "iopub.status.busy": "2023-01-07T08:28:32.383362Z",
     "iopub.status.idle": "2023-01-07T08:28:32.432524Z",
     "shell.execute_reply": "2023-01-07T08:28:32.431405Z"
    },
    "papermill": {
     "duration": 0.065247,
     "end_time": "2023-01-07T08:28:32.434958",
     "exception": false,
     "start_time": "2023-01-07T08:28:32.369711",
     "status": "completed"
    },
    "tags": []
   },
   "outputs": [
    {
     "data": {
      "text/html": [
       "<div>\n",
       "<style scoped>\n",
       "    .dataframe tbody tr th:only-of-type {\n",
       "        vertical-align: middle;\n",
       "    }\n",
       "\n",
       "    .dataframe tbody tr th {\n",
       "        vertical-align: top;\n",
       "    }\n",
       "\n",
       "    .dataframe thead th {\n",
       "        text-align: right;\n",
       "    }\n",
       "</style>\n",
       "<table border=\"1\" class=\"dataframe\">\n",
       "  <thead>\n",
       "    <tr style=\"text-align: right;\">\n",
       "      <th></th>\n",
       "      <th>movie_id</th>\n",
       "      <th>title</th>\n",
       "      <th>overview</th>\n",
       "      <th>genres</th>\n",
       "      <th>keywords</th>\n",
       "      <th>cast</th>\n",
       "      <th>crew</th>\n",
       "    </tr>\n",
       "  </thead>\n",
       "  <tbody>\n",
       "    <tr>\n",
       "      <th>0</th>\n",
       "      <td>19995</td>\n",
       "      <td>Avatar</td>\n",
       "      <td>[In, the, 22nd, century,, a, paraplegic, Marin...</td>\n",
       "      <td>[Action, Adventure, Fantasy, Science Fiction]</td>\n",
       "      <td>[culture clash, future, space war, space colon...</td>\n",
       "      <td>[Sam Worthington, Zoe Saldana, Sigourney Weaver]</td>\n",
       "      <td>[James Cameron]</td>\n",
       "    </tr>\n",
       "    <tr>\n",
       "      <th>1</th>\n",
       "      <td>285</td>\n",
       "      <td>Pirates of the Caribbean: At World's End</td>\n",
       "      <td>[Captain, Barbossa,, long, believed, to, be, d...</td>\n",
       "      <td>[Adventure, Fantasy, Action]</td>\n",
       "      <td>[ocean, drug abuse, exotic island, east india ...</td>\n",
       "      <td>[Johnny Depp, Orlando Bloom, Keira Knightley]</td>\n",
       "      <td>[Gore Verbinski]</td>\n",
       "    </tr>\n",
       "  </tbody>\n",
       "</table>\n",
       "</div>"
      ],
      "text/plain": [
       "   movie_id                                     title  \\\n",
       "0     19995                                    Avatar   \n",
       "1       285  Pirates of the Caribbean: At World's End   \n",
       "\n",
       "                                            overview  \\\n",
       "0  [In, the, 22nd, century,, a, paraplegic, Marin...   \n",
       "1  [Captain, Barbossa,, long, believed, to, be, d...   \n",
       "\n",
       "                                          genres  \\\n",
       "0  [Action, Adventure, Fantasy, Science Fiction]   \n",
       "1                   [Adventure, Fantasy, Action]   \n",
       "\n",
       "                                            keywords  \\\n",
       "0  [culture clash, future, space war, space colon...   \n",
       "1  [ocean, drug abuse, exotic island, east india ...   \n",
       "\n",
       "                                               cast              crew  \n",
       "0  [Sam Worthington, Zoe Saldana, Sigourney Weaver]   [James Cameron]  \n",
       "1     [Johnny Depp, Orlando Bloom, Keira Knightley]  [Gore Verbinski]  "
      ]
     },
     "execution_count": 18,
     "metadata": {},
     "output_type": "execute_result"
    }
   ],
   "source": [
    "movies_df['overview'] = movies_df['overview'].apply(lambda x:x.split())\n",
    "movies_df.head(2)"
   ]
  },
  {
   "cell_type": "code",
   "execution_count": 19,
   "id": "05420c8f",
   "metadata": {
    "execution": {
     "iopub.execute_input": "2023-01-07T08:28:32.461491Z",
     "iopub.status.busy": "2023-01-07T08:28:32.460757Z",
     "iopub.status.idle": "2023-01-07T08:28:32.503464Z",
     "shell.execute_reply": "2023-01-07T08:28:32.502608Z"
    },
    "papermill": {
     "duration": 0.058426,
     "end_time": "2023-01-07T08:28:32.505745",
     "exception": false,
     "start_time": "2023-01-07T08:28:32.447319",
     "status": "completed"
    },
    "tags": []
   },
   "outputs": [],
   "source": [
    "movies_df['genres'] = movies_df['genres'].apply(lambda x: [i.replace(\" \",\"\") for i in x])\n",
    "movies_df['keywords'] = movies_df['keywords'].apply(lambda x: [i.replace(\" \",\"\") for i in x])\n",
    "movies_df['cast'] = movies_df['cast'].apply(lambda x: [i.replace(\" \",\"\") for i in x])\n",
    "movies_df['crew'] = movies_df['crew'].apply(lambda x: [i.replace(\" \",\"\") for i in x])"
   ]
  },
  {
   "cell_type": "code",
   "execution_count": 20,
   "id": "e4d12c4b",
   "metadata": {
    "execution": {
     "iopub.execute_input": "2023-01-07T08:28:32.531796Z",
     "iopub.status.busy": "2023-01-07T08:28:32.531410Z",
     "iopub.status.idle": "2023-01-07T08:28:32.548139Z",
     "shell.execute_reply": "2023-01-07T08:28:32.547071Z"
    },
    "papermill": {
     "duration": 0.03264,
     "end_time": "2023-01-07T08:28:32.550697",
     "exception": false,
     "start_time": "2023-01-07T08:28:32.518057",
     "status": "completed"
    },
    "tags": []
   },
   "outputs": [
    {
     "data": {
      "text/html": [
       "<div>\n",
       "<style scoped>\n",
       "    .dataframe tbody tr th:only-of-type {\n",
       "        vertical-align: middle;\n",
       "    }\n",
       "\n",
       "    .dataframe tbody tr th {\n",
       "        vertical-align: top;\n",
       "    }\n",
       "\n",
       "    .dataframe thead th {\n",
       "        text-align: right;\n",
       "    }\n",
       "</style>\n",
       "<table border=\"1\" class=\"dataframe\">\n",
       "  <thead>\n",
       "    <tr style=\"text-align: right;\">\n",
       "      <th></th>\n",
       "      <th>movie_id</th>\n",
       "      <th>title</th>\n",
       "      <th>overview</th>\n",
       "      <th>genres</th>\n",
       "      <th>keywords</th>\n",
       "      <th>cast</th>\n",
       "      <th>crew</th>\n",
       "    </tr>\n",
       "  </thead>\n",
       "  <tbody>\n",
       "    <tr>\n",
       "      <th>0</th>\n",
       "      <td>19995</td>\n",
       "      <td>Avatar</td>\n",
       "      <td>[In, the, 22nd, century,, a, paraplegic, Marin...</td>\n",
       "      <td>[Action, Adventure, Fantasy, ScienceFiction]</td>\n",
       "      <td>[cultureclash, future, spacewar, spacecolony, ...</td>\n",
       "      <td>[SamWorthington, ZoeSaldana, SigourneyWeaver]</td>\n",
       "      <td>[JamesCameron]</td>\n",
       "    </tr>\n",
       "    <tr>\n",
       "      <th>1</th>\n",
       "      <td>285</td>\n",
       "      <td>Pirates of the Caribbean: At World's End</td>\n",
       "      <td>[Captain, Barbossa,, long, believed, to, be, d...</td>\n",
       "      <td>[Adventure, Fantasy, Action]</td>\n",
       "      <td>[ocean, drugabuse, exoticisland, eastindiatrad...</td>\n",
       "      <td>[JohnnyDepp, OrlandoBloom, KeiraKnightley]</td>\n",
       "      <td>[GoreVerbinski]</td>\n",
       "    </tr>\n",
       "  </tbody>\n",
       "</table>\n",
       "</div>"
      ],
      "text/plain": [
       "   movie_id                                     title  \\\n",
       "0     19995                                    Avatar   \n",
       "1       285  Pirates of the Caribbean: At World's End   \n",
       "\n",
       "                                            overview  \\\n",
       "0  [In, the, 22nd, century,, a, paraplegic, Marin...   \n",
       "1  [Captain, Barbossa,, long, believed, to, be, d...   \n",
       "\n",
       "                                         genres  \\\n",
       "0  [Action, Adventure, Fantasy, ScienceFiction]   \n",
       "1                  [Adventure, Fantasy, Action]   \n",
       "\n",
       "                                            keywords  \\\n",
       "0  [cultureclash, future, spacewar, spacecolony, ...   \n",
       "1  [ocean, drugabuse, exoticisland, eastindiatrad...   \n",
       "\n",
       "                                            cast             crew  \n",
       "0  [SamWorthington, ZoeSaldana, SigourneyWeaver]   [JamesCameron]  \n",
       "1     [JohnnyDepp, OrlandoBloom, KeiraKnightley]  [GoreVerbinski]  "
      ]
     },
     "execution_count": 20,
     "metadata": {},
     "output_type": "execute_result"
    }
   ],
   "source": [
    "movies_df.head(2)"
   ]
  },
  {
   "cell_type": "code",
   "execution_count": 21,
   "id": "7e6b8616",
   "metadata": {
    "execution": {
     "iopub.execute_input": "2023-01-07T08:28:32.577652Z",
     "iopub.status.busy": "2023-01-07T08:28:32.576842Z",
     "iopub.status.idle": "2023-01-07T08:28:32.632761Z",
     "shell.execute_reply": "2023-01-07T08:28:32.631927Z"
    },
    "papermill": {
     "duration": 0.072102,
     "end_time": "2023-01-07T08:28:32.635282",
     "exception": false,
     "start_time": "2023-01-07T08:28:32.563180",
     "status": "completed"
    },
    "tags": []
   },
   "outputs": [],
   "source": [
    "movies_df['tags'] = movies_df['overview'] + movies_df['genres'] + movies_df['keywords'] + movies_df['cast'] + movies_df['crew']"
   ]
  },
  {
   "cell_type": "code",
   "execution_count": 22,
   "id": "a8047a3d",
   "metadata": {
    "execution": {
     "iopub.execute_input": "2023-01-07T08:28:32.663571Z",
     "iopub.status.busy": "2023-01-07T08:28:32.662908Z",
     "iopub.status.idle": "2023-01-07T08:28:32.670077Z",
     "shell.execute_reply": "2023-01-07T08:28:32.669199Z"
    },
    "papermill": {
     "duration": 0.023963,
     "end_time": "2023-01-07T08:28:32.672166",
     "exception": false,
     "start_time": "2023-01-07T08:28:32.648203",
     "status": "completed"
    },
    "tags": []
   },
   "outputs": [],
   "source": [
    "new_df = movies_df[[\"movie_id\",\"title\",\"tags\"]]"
   ]
  },
  {
   "cell_type": "code",
   "execution_count": 23,
   "id": "e2349dab",
   "metadata": {
    "execution": {
     "iopub.execute_input": "2023-01-07T08:28:32.698959Z",
     "iopub.status.busy": "2023-01-07T08:28:32.698566Z",
     "iopub.status.idle": "2023-01-07T08:28:32.710659Z",
     "shell.execute_reply": "2023-01-07T08:28:32.709417Z"
    },
    "papermill": {
     "duration": 0.027946,
     "end_time": "2023-01-07T08:28:32.712843",
     "exception": false,
     "start_time": "2023-01-07T08:28:32.684897",
     "status": "completed"
    },
    "tags": []
   },
   "outputs": [
    {
     "data": {
      "text/html": [
       "<div>\n",
       "<style scoped>\n",
       "    .dataframe tbody tr th:only-of-type {\n",
       "        vertical-align: middle;\n",
       "    }\n",
       "\n",
       "    .dataframe tbody tr th {\n",
       "        vertical-align: top;\n",
       "    }\n",
       "\n",
       "    .dataframe thead th {\n",
       "        text-align: right;\n",
       "    }\n",
       "</style>\n",
       "<table border=\"1\" class=\"dataframe\">\n",
       "  <thead>\n",
       "    <tr style=\"text-align: right;\">\n",
       "      <th></th>\n",
       "      <th>movie_id</th>\n",
       "      <th>title</th>\n",
       "      <th>tags</th>\n",
       "    </tr>\n",
       "  </thead>\n",
       "  <tbody>\n",
       "    <tr>\n",
       "      <th>0</th>\n",
       "      <td>19995</td>\n",
       "      <td>Avatar</td>\n",
       "      <td>[In, the, 22nd, century,, a, paraplegic, Marin...</td>\n",
       "    </tr>\n",
       "    <tr>\n",
       "      <th>1</th>\n",
       "      <td>285</td>\n",
       "      <td>Pirates of the Caribbean: At World's End</td>\n",
       "      <td>[Captain, Barbossa,, long, believed, to, be, d...</td>\n",
       "    </tr>\n",
       "  </tbody>\n",
       "</table>\n",
       "</div>"
      ],
      "text/plain": [
       "   movie_id                                     title  \\\n",
       "0     19995                                    Avatar   \n",
       "1       285  Pirates of the Caribbean: At World's End   \n",
       "\n",
       "                                                tags  \n",
       "0  [In, the, 22nd, century,, a, paraplegic, Marin...  \n",
       "1  [Captain, Barbossa,, long, believed, to, be, d...  "
      ]
     },
     "execution_count": 23,
     "metadata": {},
     "output_type": "execute_result"
    }
   ],
   "source": [
    "new_df.head(2)"
   ]
  },
  {
   "cell_type": "code",
   "execution_count": 24,
   "id": "d8f1f092",
   "metadata": {
    "execution": {
     "iopub.execute_input": "2023-01-07T08:28:32.740361Z",
     "iopub.status.busy": "2023-01-07T08:28:32.739979Z",
     "iopub.status.idle": "2023-01-07T08:28:32.764669Z",
     "shell.execute_reply": "2023-01-07T08:28:32.763406Z"
    },
    "papermill": {
     "duration": 0.040986,
     "end_time": "2023-01-07T08:28:32.766934",
     "exception": false,
     "start_time": "2023-01-07T08:28:32.725948",
     "status": "completed"
    },
    "tags": []
   },
   "outputs": [
    {
     "name": "stderr",
     "output_type": "stream",
     "text": [
      "/opt/conda/lib/python3.7/site-packages/ipykernel_launcher.py:1: SettingWithCopyWarning: \n",
      "A value is trying to be set on a copy of a slice from a DataFrame.\n",
      "Try using .loc[row_indexer,col_indexer] = value instead\n",
      "\n",
      "See the caveats in the documentation: https://pandas.pydata.org/pandas-docs/stable/user_guide/indexing.html#returning-a-view-versus-a-copy\n",
      "  \"\"\"Entry point for launching an IPython kernel.\n"
     ]
    },
    {
     "data": {
      "text/html": [
       "<div>\n",
       "<style scoped>\n",
       "    .dataframe tbody tr th:only-of-type {\n",
       "        vertical-align: middle;\n",
       "    }\n",
       "\n",
       "    .dataframe tbody tr th {\n",
       "        vertical-align: top;\n",
       "    }\n",
       "\n",
       "    .dataframe thead th {\n",
       "        text-align: right;\n",
       "    }\n",
       "</style>\n",
       "<table border=\"1\" class=\"dataframe\">\n",
       "  <thead>\n",
       "    <tr style=\"text-align: right;\">\n",
       "      <th></th>\n",
       "      <th>movie_id</th>\n",
       "      <th>title</th>\n",
       "      <th>tags</th>\n",
       "    </tr>\n",
       "  </thead>\n",
       "  <tbody>\n",
       "    <tr>\n",
       "      <th>0</th>\n",
       "      <td>19995</td>\n",
       "      <td>Avatar</td>\n",
       "      <td>In the 22nd century, a paraplegic Marine is di...</td>\n",
       "    </tr>\n",
       "    <tr>\n",
       "      <th>1</th>\n",
       "      <td>285</td>\n",
       "      <td>Pirates of the Caribbean: At World's End</td>\n",
       "      <td>Captain Barbossa, long believed to be dead, ha...</td>\n",
       "    </tr>\n",
       "  </tbody>\n",
       "</table>\n",
       "</div>"
      ],
      "text/plain": [
       "   movie_id                                     title  \\\n",
       "0     19995                                    Avatar   \n",
       "1       285  Pirates of the Caribbean: At World's End   \n",
       "\n",
       "                                                tags  \n",
       "0  In the 22nd century, a paraplegic Marine is di...  \n",
       "1  Captain Barbossa, long believed to be dead, ha...  "
      ]
     },
     "execution_count": 24,
     "metadata": {},
     "output_type": "execute_result"
    }
   ],
   "source": [
    "new_df['tags'] = new_df['tags'].apply(lambda x: \" \".join(x))\n",
    "new_df.head(2)"
   ]
  },
  {
   "cell_type": "code",
   "execution_count": 25,
   "id": "adeb6a13",
   "metadata": {
    "execution": {
     "iopub.execute_input": "2023-01-07T08:28:32.794314Z",
     "iopub.status.busy": "2023-01-07T08:28:32.793943Z",
     "iopub.status.idle": "2023-01-07T08:28:32.809241Z",
     "shell.execute_reply": "2023-01-07T08:28:32.808014Z"
    },
    "papermill": {
     "duration": 0.032433,
     "end_time": "2023-01-07T08:28:32.812354",
     "exception": false,
     "start_time": "2023-01-07T08:28:32.779921",
     "status": "completed"
    },
    "tags": []
   },
   "outputs": [
    {
     "name": "stderr",
     "output_type": "stream",
     "text": [
      "/opt/conda/lib/python3.7/site-packages/ipykernel_launcher.py:1: SettingWithCopyWarning: \n",
      "A value is trying to be set on a copy of a slice from a DataFrame.\n",
      "Try using .loc[row_indexer,col_indexer] = value instead\n",
      "\n",
      "See the caveats in the documentation: https://pandas.pydata.org/pandas-docs/stable/user_guide/indexing.html#returning-a-view-versus-a-copy\n",
      "  \"\"\"Entry point for launching an IPython kernel.\n"
     ]
    }
   ],
   "source": [
    "new_df['tags'] = new_df['tags'].apply(lambda x: x.lower())"
   ]
  },
  {
   "cell_type": "code",
   "execution_count": 26,
   "id": "6f270583",
   "metadata": {
    "execution": {
     "iopub.execute_input": "2023-01-07T08:28:32.841734Z",
     "iopub.status.busy": "2023-01-07T08:28:32.840902Z",
     "iopub.status.idle": "2023-01-07T08:28:32.852030Z",
     "shell.execute_reply": "2023-01-07T08:28:32.850980Z"
    },
    "papermill": {
     "duration": 0.027748,
     "end_time": "2023-01-07T08:28:32.854275",
     "exception": false,
     "start_time": "2023-01-07T08:28:32.826527",
     "status": "completed"
    },
    "tags": []
   },
   "outputs": [
    {
     "data": {
      "text/html": [
       "<div>\n",
       "<style scoped>\n",
       "    .dataframe tbody tr th:only-of-type {\n",
       "        vertical-align: middle;\n",
       "    }\n",
       "\n",
       "    .dataframe tbody tr th {\n",
       "        vertical-align: top;\n",
       "    }\n",
       "\n",
       "    .dataframe thead th {\n",
       "        text-align: right;\n",
       "    }\n",
       "</style>\n",
       "<table border=\"1\" class=\"dataframe\">\n",
       "  <thead>\n",
       "    <tr style=\"text-align: right;\">\n",
       "      <th></th>\n",
       "      <th>movie_id</th>\n",
       "      <th>title</th>\n",
       "      <th>tags</th>\n",
       "    </tr>\n",
       "  </thead>\n",
       "  <tbody>\n",
       "    <tr>\n",
       "      <th>0</th>\n",
       "      <td>19995</td>\n",
       "      <td>Avatar</td>\n",
       "      <td>in the 22nd century, a paraplegic marine is di...</td>\n",
       "    </tr>\n",
       "    <tr>\n",
       "      <th>1</th>\n",
       "      <td>285</td>\n",
       "      <td>Pirates of the Caribbean: At World's End</td>\n",
       "      <td>captain barbossa, long believed to be dead, ha...</td>\n",
       "    </tr>\n",
       "  </tbody>\n",
       "</table>\n",
       "</div>"
      ],
      "text/plain": [
       "   movie_id                                     title  \\\n",
       "0     19995                                    Avatar   \n",
       "1       285  Pirates of the Caribbean: At World's End   \n",
       "\n",
       "                                                tags  \n",
       "0  in the 22nd century, a paraplegic marine is di...  \n",
       "1  captain barbossa, long believed to be dead, ha...  "
      ]
     },
     "execution_count": 26,
     "metadata": {},
     "output_type": "execute_result"
    }
   ],
   "source": [
    "new_df.head(2)"
   ]
  },
  {
   "cell_type": "code",
   "execution_count": 27,
   "id": "ab504302",
   "metadata": {
    "execution": {
     "iopub.execute_input": "2023-01-07T08:28:32.882523Z",
     "iopub.status.busy": "2023-01-07T08:28:32.882105Z",
     "iopub.status.idle": "2023-01-07T08:28:34.456494Z",
     "shell.execute_reply": "2023-01-07T08:28:34.455276Z"
    },
    "papermill": {
     "duration": 1.591544,
     "end_time": "2023-01-07T08:28:34.459395",
     "exception": false,
     "start_time": "2023-01-07T08:28:32.867851",
     "status": "completed"
    },
    "tags": []
   },
   "outputs": [],
   "source": [
    "from nltk.stem.porter import PorterStemmer\n",
    "ps = PorterStemmer()"
   ]
  },
  {
   "cell_type": "code",
   "execution_count": 28,
   "id": "488f2fe0",
   "metadata": {
    "execution": {
     "iopub.execute_input": "2023-01-07T08:28:34.488074Z",
     "iopub.status.busy": "2023-01-07T08:28:34.487450Z",
     "iopub.status.idle": "2023-01-07T08:28:34.493107Z",
     "shell.execute_reply": "2023-01-07T08:28:34.492216Z"
    },
    "papermill": {
     "duration": 0.022522,
     "end_time": "2023-01-07T08:28:34.495378",
     "exception": false,
     "start_time": "2023-01-07T08:28:34.472856",
     "status": "completed"
    },
    "tags": []
   },
   "outputs": [],
   "source": [
    "def stem(text):\n",
    "    y = []\n",
    "    for i in text.split():\n",
    "        y.append(ps.stem(i))\n",
    "    return \" \".join(y)"
   ]
  },
  {
   "cell_type": "code",
   "execution_count": 29,
   "id": "9913b1e8",
   "metadata": {
    "execution": {
     "iopub.execute_input": "2023-01-07T08:28:34.524441Z",
     "iopub.status.busy": "2023-01-07T08:28:34.524025Z",
     "iopub.status.idle": "2023-01-07T08:28:42.263580Z",
     "shell.execute_reply": "2023-01-07T08:28:42.262417Z"
    },
    "papermill": {
     "duration": 7.75731,
     "end_time": "2023-01-07T08:28:42.266018",
     "exception": false,
     "start_time": "2023-01-07T08:28:34.508708",
     "status": "completed"
    },
    "tags": []
   },
   "outputs": [
    {
     "name": "stderr",
     "output_type": "stream",
     "text": [
      "/opt/conda/lib/python3.7/site-packages/ipykernel_launcher.py:1: SettingWithCopyWarning: \n",
      "A value is trying to be set on a copy of a slice from a DataFrame.\n",
      "Try using .loc[row_indexer,col_indexer] = value instead\n",
      "\n",
      "See the caveats in the documentation: https://pandas.pydata.org/pandas-docs/stable/user_guide/indexing.html#returning-a-view-versus-a-copy\n",
      "  \"\"\"Entry point for launching an IPython kernel.\n"
     ]
    }
   ],
   "source": [
    "new_df['tags'] = new_df['tags'].apply(stem)"
   ]
  },
  {
   "cell_type": "code",
   "execution_count": 30,
   "id": "15e8e395",
   "metadata": {
    "execution": {
     "iopub.execute_input": "2023-01-07T08:28:42.294115Z",
     "iopub.status.busy": "2023-01-07T08:28:42.293727Z",
     "iopub.status.idle": "2023-01-07T08:28:42.305134Z",
     "shell.execute_reply": "2023-01-07T08:28:42.304150Z"
    },
    "papermill": {
     "duration": 0.028028,
     "end_time": "2023-01-07T08:28:42.307407",
     "exception": false,
     "start_time": "2023-01-07T08:28:42.279379",
     "status": "completed"
    },
    "tags": []
   },
   "outputs": [
    {
     "data": {
      "text/html": [
       "<div>\n",
       "<style scoped>\n",
       "    .dataframe tbody tr th:only-of-type {\n",
       "        vertical-align: middle;\n",
       "    }\n",
       "\n",
       "    .dataframe tbody tr th {\n",
       "        vertical-align: top;\n",
       "    }\n",
       "\n",
       "    .dataframe thead th {\n",
       "        text-align: right;\n",
       "    }\n",
       "</style>\n",
       "<table border=\"1\" class=\"dataframe\">\n",
       "  <thead>\n",
       "    <tr style=\"text-align: right;\">\n",
       "      <th></th>\n",
       "      <th>movie_id</th>\n",
       "      <th>title</th>\n",
       "      <th>tags</th>\n",
       "    </tr>\n",
       "  </thead>\n",
       "  <tbody>\n",
       "    <tr>\n",
       "      <th>0</th>\n",
       "      <td>19995</td>\n",
       "      <td>Avatar</td>\n",
       "      <td>in the 22nd century, a parapleg marin is dispa...</td>\n",
       "    </tr>\n",
       "    <tr>\n",
       "      <th>1</th>\n",
       "      <td>285</td>\n",
       "      <td>Pirates of the Caribbean: At World's End</td>\n",
       "      <td>captain barbossa, long believ to be dead, ha c...</td>\n",
       "    </tr>\n",
       "    <tr>\n",
       "      <th>2</th>\n",
       "      <td>206647</td>\n",
       "      <td>Spectre</td>\n",
       "      <td>a cryptic messag from bond’ past send him on a...</td>\n",
       "    </tr>\n",
       "    <tr>\n",
       "      <th>3</th>\n",
       "      <td>49026</td>\n",
       "      <td>The Dark Knight Rises</td>\n",
       "      <td>follow the death of district attorney harvey d...</td>\n",
       "    </tr>\n",
       "    <tr>\n",
       "      <th>4</th>\n",
       "      <td>49529</td>\n",
       "      <td>John Carter</td>\n",
       "      <td>john carter is a war-weary, former militari ca...</td>\n",
       "    </tr>\n",
       "    <tr>\n",
       "      <th>5</th>\n",
       "      <td>559</td>\n",
       "      <td>Spider-Man 3</td>\n",
       "      <td>the seemingli invinc spider-man goe up against...</td>\n",
       "    </tr>\n",
       "    <tr>\n",
       "      <th>6</th>\n",
       "      <td>38757</td>\n",
       "      <td>Tangled</td>\n",
       "      <td>when the kingdom' most wanted-and most charmin...</td>\n",
       "    </tr>\n",
       "    <tr>\n",
       "      <th>7</th>\n",
       "      <td>99861</td>\n",
       "      <td>Avengers: Age of Ultron</td>\n",
       "      <td>when toni stark tri to jumpstart a dormant pea...</td>\n",
       "    </tr>\n",
       "    <tr>\n",
       "      <th>8</th>\n",
       "      <td>767</td>\n",
       "      <td>Harry Potter and the Half-Blood Prince</td>\n",
       "      <td>as harri begin hi sixth year at hogwarts, he d...</td>\n",
       "    </tr>\n",
       "    <tr>\n",
       "      <th>9</th>\n",
       "      <td>209112</td>\n",
       "      <td>Batman v Superman: Dawn of Justice</td>\n",
       "      <td>fear the action of a god-lik super hero left u...</td>\n",
       "    </tr>\n",
       "  </tbody>\n",
       "</table>\n",
       "</div>"
      ],
      "text/plain": [
       "   movie_id                                     title  \\\n",
       "0     19995                                    Avatar   \n",
       "1       285  Pirates of the Caribbean: At World's End   \n",
       "2    206647                                   Spectre   \n",
       "3     49026                     The Dark Knight Rises   \n",
       "4     49529                               John Carter   \n",
       "5       559                              Spider-Man 3   \n",
       "6     38757                                   Tangled   \n",
       "7     99861                   Avengers: Age of Ultron   \n",
       "8       767    Harry Potter and the Half-Blood Prince   \n",
       "9    209112        Batman v Superman: Dawn of Justice   \n",
       "\n",
       "                                                tags  \n",
       "0  in the 22nd century, a parapleg marin is dispa...  \n",
       "1  captain barbossa, long believ to be dead, ha c...  \n",
       "2  a cryptic messag from bond’ past send him on a...  \n",
       "3  follow the death of district attorney harvey d...  \n",
       "4  john carter is a war-weary, former militari ca...  \n",
       "5  the seemingli invinc spider-man goe up against...  \n",
       "6  when the kingdom' most wanted-and most charmin...  \n",
       "7  when toni stark tri to jumpstart a dormant pea...  \n",
       "8  as harri begin hi sixth year at hogwarts, he d...  \n",
       "9  fear the action of a god-lik super hero left u...  "
      ]
     },
     "execution_count": 30,
     "metadata": {},
     "output_type": "execute_result"
    }
   ],
   "source": [
    "new_df.head(10)"
   ]
  },
  {
   "cell_type": "code",
   "execution_count": 31,
   "id": "5c21fea5",
   "metadata": {
    "execution": {
     "iopub.execute_input": "2023-01-07T08:28:42.335483Z",
     "iopub.status.busy": "2023-01-07T08:28:42.335096Z",
     "iopub.status.idle": "2023-01-07T08:28:42.340467Z",
     "shell.execute_reply": "2023-01-07T08:28:42.339288Z"
    },
    "papermill": {
     "duration": 0.022033,
     "end_time": "2023-01-07T08:28:42.342724",
     "exception": false,
     "start_time": "2023-01-07T08:28:42.320691",
     "status": "completed"
    },
    "tags": []
   },
   "outputs": [],
   "source": [
    "from sklearn.feature_extraction.text import CountVectorizer\n",
    "cv = CountVectorizer(max_features=5000,stop_words='english')"
   ]
  },
  {
   "cell_type": "code",
   "execution_count": 32,
   "id": "bea065f0",
   "metadata": {
    "execution": {
     "iopub.execute_input": "2023-01-07T08:28:42.371803Z",
     "iopub.status.busy": "2023-01-07T08:28:42.371423Z",
     "iopub.status.idle": "2023-01-07T08:28:42.874143Z",
     "shell.execute_reply": "2023-01-07T08:28:42.873000Z"
    },
    "papermill": {
     "duration": 0.520667,
     "end_time": "2023-01-07T08:28:42.876930",
     "exception": false,
     "start_time": "2023-01-07T08:28:42.356263",
     "status": "completed"
    },
    "tags": []
   },
   "outputs": [],
   "source": [
    "vectors = cv.fit_transform(new_df['tags']).toarray()"
   ]
  },
  {
   "cell_type": "code",
   "execution_count": 33,
   "id": "55e32600",
   "metadata": {
    "execution": {
     "iopub.execute_input": "2023-01-07T08:28:42.906058Z",
     "iopub.status.busy": "2023-01-07T08:28:42.905690Z",
     "iopub.status.idle": "2023-01-07T08:28:42.912533Z",
     "shell.execute_reply": "2023-01-07T08:28:42.911271Z"
    },
    "papermill": {
     "duration": 0.024096,
     "end_time": "2023-01-07T08:28:42.914898",
     "exception": false,
     "start_time": "2023-01-07T08:28:42.890802",
     "status": "completed"
    },
    "tags": []
   },
   "outputs": [
    {
     "data": {
      "text/plain": [
       "(4806, 5000)"
      ]
     },
     "execution_count": 33,
     "metadata": {},
     "output_type": "execute_result"
    }
   ],
   "source": [
    "vectors.shape"
   ]
  },
  {
   "cell_type": "code",
   "execution_count": 34,
   "id": "7ac5e4a0",
   "metadata": {
    "execution": {
     "iopub.execute_input": "2023-01-07T08:28:42.944217Z",
     "iopub.status.busy": "2023-01-07T08:28:42.943840Z",
     "iopub.status.idle": "2023-01-07T08:28:42.948523Z",
     "shell.execute_reply": "2023-01-07T08:28:42.947494Z"
    },
    "papermill": {
     "duration": 0.022008,
     "end_time": "2023-01-07T08:28:42.950717",
     "exception": false,
     "start_time": "2023-01-07T08:28:42.928709",
     "status": "completed"
    },
    "tags": []
   },
   "outputs": [],
   "source": [
    "#cv.get_feature_names()"
   ]
  },
  {
   "cell_type": "code",
   "execution_count": 35,
   "id": "cb92e966",
   "metadata": {
    "execution": {
     "iopub.execute_input": "2023-01-07T08:28:42.980396Z",
     "iopub.status.busy": "2023-01-07T08:28:42.979241Z",
     "iopub.status.idle": "2023-01-07T08:28:42.984577Z",
     "shell.execute_reply": "2023-01-07T08:28:42.983636Z"
    },
    "papermill": {
     "duration": 0.022403,
     "end_time": "2023-01-07T08:28:42.986806",
     "exception": false,
     "start_time": "2023-01-07T08:28:42.964403",
     "status": "completed"
    },
    "tags": []
   },
   "outputs": [],
   "source": [
    "from sklearn.metrics.pairwise import cosine_similarity"
   ]
  },
  {
   "cell_type": "code",
   "execution_count": 36,
   "id": "6623d024",
   "metadata": {
    "execution": {
     "iopub.execute_input": "2023-01-07T08:28:43.016135Z",
     "iopub.status.busy": "2023-01-07T08:28:43.015235Z",
     "iopub.status.idle": "2023-01-07T08:28:45.251538Z",
     "shell.execute_reply": "2023-01-07T08:28:45.249922Z"
    },
    "papermill": {
     "duration": 2.255451,
     "end_time": "2023-01-07T08:28:45.255828",
     "exception": false,
     "start_time": "2023-01-07T08:28:43.000377",
     "status": "completed"
    },
    "tags": []
   },
   "outputs": [],
   "source": [
    "similarity = cosine_similarity(vectors)"
   ]
  },
  {
   "cell_type": "code",
   "execution_count": 37,
   "id": "12c6b882",
   "metadata": {
    "execution": {
     "iopub.execute_input": "2023-01-07T08:28:45.287665Z",
     "iopub.status.busy": "2023-01-07T08:28:45.286506Z",
     "iopub.status.idle": "2023-01-07T08:28:45.297813Z",
     "shell.execute_reply": "2023-01-07T08:28:45.296928Z"
    },
    "papermill": {
     "duration": 0.028246,
     "end_time": "2023-01-07T08:28:45.300079",
     "exception": false,
     "start_time": "2023-01-07T08:28:45.271833",
     "status": "completed"
    },
    "tags": []
   },
   "outputs": [
    {
     "data": {
      "text/plain": [
       "[(1216, 0.28676966733820225),\n",
       " (2409, 0.26901379342448517),\n",
       " (3730, 0.2605130246476754),\n",
       " (507, 0.255608593705383),\n",
       " (539, 0.25038669783359574)]"
      ]
     },
     "execution_count": 37,
     "metadata": {},
     "output_type": "execute_result"
    }
   ],
   "source": [
    "#Top 5 smimilar movies for the first movie\n",
    "sorted(list(enumerate(similarity[0])),reverse=True,key= lambda x: x[1] )[1:6]"
   ]
  },
  {
   "cell_type": "code",
   "execution_count": 38,
   "id": "34038d37",
   "metadata": {
    "execution": {
     "iopub.execute_input": "2023-01-07T08:28:45.329190Z",
     "iopub.status.busy": "2023-01-07T08:28:45.328324Z",
     "iopub.status.idle": "2023-01-07T08:28:45.334528Z",
     "shell.execute_reply": "2023-01-07T08:28:45.333578Z"
    },
    "papermill": {
     "duration": 0.022991,
     "end_time": "2023-01-07T08:28:45.336716",
     "exception": false,
     "start_time": "2023-01-07T08:28:45.313725",
     "status": "completed"
    },
    "tags": []
   },
   "outputs": [],
   "source": [
    "def recommend(movie):\n",
    "    movie_index = new_df[new_df['title'] == movie].index[0]\n",
    "    distance = similarity[movie_index]\n",
    "    movie_list = sorted(list(enumerate(distance)),reverse=True,key= lambda x: x[1] )[1:6]\n",
    "    for i in movie_list:\n",
    "        #print(i[0])\n",
    "        print(new_df.iloc[i[0]].title)"
   ]
  },
  {
   "cell_type": "markdown",
   "id": "f8213678",
   "metadata": {
    "papermill": {
     "duration": 0.013148,
     "end_time": "2023-01-07T08:28:45.363424",
     "exception": false,
     "start_time": "2023-01-07T08:28:45.350276",
     "status": "completed"
    },
    "tags": []
   },
   "source": [
    "**Recommend Top 5 Films based on name of the given film**"
   ]
  },
  {
   "cell_type": "code",
   "execution_count": 39,
   "id": "baac7b0d",
   "metadata": {
    "execution": {
     "iopub.execute_input": "2023-01-07T08:28:45.392429Z",
     "iopub.status.busy": "2023-01-07T08:28:45.391631Z",
     "iopub.status.idle": "2023-01-07T08:28:45.403054Z",
     "shell.execute_reply": "2023-01-07T08:28:45.401796Z"
    },
    "papermill": {
     "duration": 0.028944,
     "end_time": "2023-01-07T08:28:45.405746",
     "exception": false,
     "start_time": "2023-01-07T08:28:45.376802",
     "status": "completed"
    },
    "tags": []
   },
   "outputs": [
    {
     "name": "stdout",
     "output_type": "stream",
     "text": [
      "Spider-Man 2\n",
      "Spider-Man\n",
      "The Amazing Spider-Man 2\n",
      "The Amazing Spider-Man\n",
      "Arachnophobia\n"
     ]
    }
   ],
   "source": [
    "recommend(\"Spider-Man 3\")"
   ]
  },
  {
   "cell_type": "code",
   "execution_count": 40,
   "id": "e1e98f12",
   "metadata": {
    "execution": {
     "iopub.execute_input": "2023-01-07T08:28:45.435748Z",
     "iopub.status.busy": "2023-01-07T08:28:45.435312Z",
     "iopub.status.idle": "2023-01-07T08:28:45.440444Z",
     "shell.execute_reply": "2023-01-07T08:28:45.439264Z"
    },
    "papermill": {
     "duration": 0.022553,
     "end_time": "2023-01-07T08:28:45.442539",
     "exception": false,
     "start_time": "2023-01-07T08:28:45.419986",
     "status": "completed"
    },
    "tags": []
   },
   "outputs": [],
   "source": [
    "import pickle"
   ]
  },
  {
   "cell_type": "code",
   "execution_count": 41,
   "id": "1069b5b0",
   "metadata": {
    "execution": {
     "iopub.execute_input": "2023-01-07T08:28:45.471784Z",
     "iopub.status.busy": "2023-01-07T08:28:45.471096Z",
     "iopub.status.idle": "2023-01-07T08:28:45.815338Z",
     "shell.execute_reply": "2023-01-07T08:28:45.814389Z"
    },
    "papermill": {
     "duration": 0.361922,
     "end_time": "2023-01-07T08:28:45.818082",
     "exception": false,
     "start_time": "2023-01-07T08:28:45.456160",
     "status": "completed"
    },
    "tags": []
   },
   "outputs": [],
   "source": [
    "pickle.dump(new_df,open('movie_list.pkl','wb'))\n",
    "pickle.dump(similarity,open('similarity.pkl','wb'))"
   ]
  },
  {
   "cell_type": "code",
   "execution_count": null,
   "id": "a9a5591b",
   "metadata": {
    "papermill": {
     "duration": 0.013853,
     "end_time": "2023-01-07T08:28:45.845995",
     "exception": false,
     "start_time": "2023-01-07T08:28:45.832142",
     "status": "completed"
    },
    "tags": []
   },
   "outputs": [],
   "source": []
  }
 ],
 "metadata": {
  "kernelspec": {
   "display_name": "Python 3",
   "language": "python",
   "name": "python3"
  },
  "language_info": {
   "codemirror_mode": {
    "name": "ipython",
    "version": 3
   },
   "file_extension": ".py",
   "mimetype": "text/x-python",
   "name": "python",
   "nbconvert_exporter": "python",
   "pygments_lexer": "ipython3",
   "version": "3.7.12"
  },
  "papermill": {
   "default_parameters": {},
   "duration": 31.9908,
   "end_time": "2023-01-07T08:28:46.680697",
   "environment_variables": {},
   "exception": null,
   "input_path": "__notebook__.ipynb",
   "output_path": "__notebook__.ipynb",
   "parameters": {},
   "start_time": "2023-01-07T08:28:14.689897",
   "version": "2.3.4"
  }
 },
 "nbformat": 4,
 "nbformat_minor": 5
}
